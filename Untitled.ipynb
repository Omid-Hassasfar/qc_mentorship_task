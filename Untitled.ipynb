{
 "cells": [
  {
   "cell_type": "code",
   "execution_count": 6,
   "metadata": {},
   "outputs": [],
   "source": [
    "'''\n",
    "\n",
    "Assignment: QC-Mentorship Task #4\n",
    "\n",
    "Author: Oscar Javier Hernandez\n",
    "\n",
    "'''\n",
    "\n",
    "from qiskit import *\n",
    "import numpy as np"
   ]
  },
  {
   "cell_type": "markdown",
   "metadata": {},
   "source": [
    "Our task will be to determine the lowest eigenvalue of the matrix $M$ using the variational quantum eigensolver method (VQE), where \n",
    "\n",
    "$\n",
    "M = \\begin{bmatrix}\n",
    "0 & 0 & 0 & 0  \\\\\n",
    "0 & -1 & 1 & 0 \\\\\n",
    "0 & 1 & -1 & 0 \\\\\n",
    "0 & 0 & 0 & 0\n",
    "\\end{bmatrix}.\n",
    "$\n",
    "\n",
    "Recall that the Pauli matrices are given by\n",
    "\n",
    "$\n",
    "\\begin{align}\n",
    "\\sigma_x = \\begin{bmatrix}0 &1  \\\\ 1 &0 \\end{bmatrix}, &  &\n",
    "\\sigma_y = \\begin{bmatrix} 0 & -i \\\\ i & 0 \\end{bmatrix}, & &\n",
    "\\sigma_z = \\begin{bmatrix} 1 &0  \\\\ 0 &-1 \\end{bmatrix}. \n",
    "\\end{align}\n",
    "$\n",
    "\n",
    "For two qubits, we have the following vector representation\n",
    "\n",
    "\n",
    "$\n",
    "\\begin{align}\n",
    "\\vec{v} = \\begin{bmatrix} \n",
    "\\alpha_1 \\\\\n",
    "\\alpha_2 \\\\\n",
    "\\alpha_3 \\\\\n",
    "\\alpha_4 \n",
    "\\end{bmatrix} \n",
    "= \\alpha_1 |00 \\rangle + \\alpha_2 |01 \\rangle +\\alpha_3 |10 \\rangle +\\alpha_4 | 1 1 \\rangle \n",
    "\\end{align}\n",
    "$"
   ]
  },
  {
   "cell_type": "markdown",
   "metadata": {},
   "source": [
    "# Pauli Decomposition"
   ]
  },
  {
   "cell_type": "code",
   "execution_count": 22,
   "metadata": {},
   "outputs": [],
   "source": [
    "# Define the Pauli matrices \n",
    "\n",
    "sigma_x = np.array([[0,1],[1,0]])\n",
    "sigma_y = np.array([[0,-np.complex(0,1)],[np.complex(0,1),0]])\n",
    "sigma_z = np.array([[1,0],[0,-1]])"
   ]
  },
  {
   "cell_type": "code",
   "execution_count": 39,
   "metadata": {},
   "outputs": [
    {
     "name": "stdout",
     "output_type": "stream",
     "text": [
      "The XX gate is: \n",
      "[[0 0 0 1]\n",
      " [0 0 1 0]\n",
      " [0 1 0 0]\n",
      " [1 0 0 0]] \n",
      "\n",
      "The YY gate is: \n",
      "[[ 0.  0.  0. -1.]\n",
      " [ 0.  0.  1.  0.]\n",
      " [ 0.  1.  0.  0.]\n",
      " [-1.  0.  0.  0.]] \n",
      "\n",
      "The ZZ gate is: \n",
      "[[ 1  0  0  0]\n",
      " [ 0 -1  0  0]\n",
      " [ 0  0 -1  0]\n",
      " [ 0  0  0  1]] \n",
      "\n",
      "M =  [[ 0.  0.  0.  0.]\n",
      " [ 0. -1.  1.  0.]\n",
      " [ 0.  1. -1.  0.]\n",
      " [ 0.  0.  0.  0.]]\n"
     ]
    }
   ],
   "source": [
    "# Compute the tensor product of the matrices\n",
    "\n",
    "XX = np.kron(sigma_x,sigma_x)\n",
    "YY = np.real(np.kron(sigma_y,sigma_y))\n",
    "ZZ = np.kron(sigma_z,sigma_z)\n",
    "II = np.identity(4)\n",
    "\n",
    "print(\"The XX gate is: \\n{} \\n\".format(XX))\n",
    "print(\"The YY gate is: \\n{} \\n\".format(YY))\n",
    "print(\"The ZZ gate is: \\n{} \\n\".format(ZZ))\n",
    "\n",
    "\n",
    "# Now we decompose the \n",
    "print('M = ',(XX+YY+ZZ-II)/2)\n"
   ]
  },
  {
   "cell_type": "code",
   "execution_count": 72,
   "metadata": {},
   "outputs": [],
   "source": [
    "# Measurement along the Z \\otimes Z-axis "
   ]
  },
  {
   "cell_type": "markdown",
   "metadata": {},
   "source": [
    "Our Hamiltonian was decomposed into the following,\n",
    "\n",
    "$\n",
    "M = \\frac{1}{2}\\left(X_1 \\otimes X_2+Y_1 \\otimes Y_2+Z_1\\otimes Z_2-I_1\\otimes I_2 \\right)\n",
    "$\n",
    "\n",
    "We wish to determine the minimum eigenvalue of this expression, using the variational theorem. Therefore, we want to find the expectation value of the operator $M$ on a ground state wave function $|\\psi \\rangle $ of the form    \n",
    "$\n",
    "E_0 = \\langle \\psi(\\theta)|M | \\psi(\\theta) \\rangle,\n",
    "$\n",
    "\n",
    "where $E_0$ represents the lowest eigenvalue of $M$ and $\\psi$ is our variational wave function parametrized by $\\theta$.\n",
    "\n",
    "\n",
    "$\n",
    "\\begin{align}\n",
    "X \\otimes X &= \\left(H_1 \\otimes H_2 \\right)^\\dagger Z_1 \\otimes Z_2  \\left(H_1 \\otimes H_2 \\right) \\\\\n",
    "Y \\otimes Y &= \\left(H_1 S_1^\\dagger \\otimes H_2 S_2^\\dagger \\right)^\\dagger Z_1 \\otimes Z_2  \\left(H_1 S_1^\\dagger \\otimes H_2 S_2^\\dagger \\right)\n",
    "\\end{align}\n",
    "$\n",
    "\n",
    "These identities allow us to write the \n"
   ]
  },
  {
   "cell_type": "markdown",
   "metadata": {},
   "source": [
    "# Generate Anzatz state\n",
    "\n",
    "$\n",
    "\\begin{align}\n",
    "|\\psi \\rangle = (I \\otimes X)CX(R_Z(\\theta) \\otimes I)(H \\otimes I)|00\\rangle\n",
    "\\end{align}\n",
    "$"
   ]
  },
  {
   "cell_type": "code",
   "execution_count": 71,
   "metadata": {},
   "outputs": [
    {
     "data": {
      "text/html": [
       "<pre style=\"word-wrap: normal;white-space: pre;background: #fff0;line-height: 1.1;font-family: &quot;Courier New&quot;,Courier,monospace\">          ┌───┐┌────────┐          ┌─┐   \n",
       "q21_0: |0>┤ H ├┤ Rz(pi) ├──■───────┤M├───\n",
       "          └───┘└────────┘┌─┴─┐┌───┐└╥┘┌─┐\n",
       "q21_1: |0>───────────────┤ X ├┤ X ├─╫─┤M├\n",
       "                         └───┘└───┘ ║ └╥┘\n",
       "  c8_0: 0 ══════════════════════════╩══╬═\n",
       "                                       ║ \n",
       "  c8_1: 0 ═════════════════════════════╩═\n",
       "                                         </pre>"
      ],
      "text/plain": [
       "          ┌───┐┌────────┐          ┌─┐   \n",
       "q21_0: |0>┤ H ├┤ Rz(pi) ├──■───────┤M├───\n",
       "          └───┘└────────┘┌─┴─┐┌───┐└╥┘┌─┐\n",
       "q21_1: |0>───────────────┤ X ├┤ X ├─╫─┤M├\n",
       "                         └───┘└───┘ ║ └╥┘\n",
       "  c8_0: 0 ══════════════════════════╩══╬═\n",
       "                                       ║ \n",
       "  c8_1: 0 ═════════════════════════════╩═\n",
       "                                         "
      ]
     },
     "execution_count": 71,
     "metadata": {},
     "output_type": "execute_result"
    }
   ],
   "source": [
    "\n",
    "def anzatz(theta):\n",
    "    q = QuantumRegister(2)\n",
    "    c = ClassicalRegister(2)\n",
    "    circuit = QuantumCircuit(q,c)\n",
    "    circuit.h(q[0])\n",
    "    circuit.rz(theta,q[0])\n",
    "    circuit.cx(q[0],q[1])\n",
    "    circuit.x(q[1])\n",
    "    circuit.measure(q,c)\n",
    "    return circuit\n",
    "\n",
    "circuit = anzatz(theta=np.pi)\n",
    "circuit.draw()"
   ]
  },
  {
   "cell_type": "code",
   "execution_count": null,
   "metadata": {},
   "outputs": [],
   "source": [
    "# Now that we have our Anzatz, we need to measure in the Z-direction\n",
    "\n",
    "\n",
    "\n"
   ]
  }
 ],
 "metadata": {
  "kernelspec": {
   "display_name": "qiskit",
   "language": "python",
   "name": "qiskit"
  },
  "language_info": {
   "codemirror_mode": {
    "name": "ipython",
    "version": 3
   },
   "file_extension": ".py",
   "mimetype": "text/x-python",
   "name": "python",
   "nbconvert_exporter": "python",
   "pygments_lexer": "ipython3",
   "version": "3.8.1"
  }
 },
 "nbformat": 4,
 "nbformat_minor": 4
}
