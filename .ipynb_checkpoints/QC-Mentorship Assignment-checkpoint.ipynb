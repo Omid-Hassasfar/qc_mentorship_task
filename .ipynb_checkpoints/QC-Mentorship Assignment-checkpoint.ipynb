{
 "cells": [
  {
   "cell_type": "code",
   "execution_count": 1,
   "metadata": {},
   "outputs": [],
   "source": [
    "'''\n",
    "\n",
    "Assignment: QC-Mentorship Task #4\n",
    "\n",
    "Author: Oscar Javier Hernandez\n",
    "\n",
    "'''\n",
    "\n",
    "from qiskit import *\n",
    "import numpy as np"
   ]
  },
  {
   "cell_type": "markdown",
   "metadata": {},
   "source": [
    "# Introduction\n",
    "\n",
    "Our task will be to determine the lowest eigenvalue of the matrix $M$ using the variational quantum eigensolver method (VQE), where \n",
    "\n",
    "$\n",
    "M = \\begin{bmatrix}\n",
    "0 & 0 & 0 & 0  \\\\\n",
    "0 & -1 & 1 & 0 \\\\\n",
    "0 & 1 & -1 & 0 \\\\\n",
    "0 & 0 & 0 & 0\n",
    "\\end{bmatrix}.\n",
    "$\n",
    "\n",
    "Recall that the Pauli matrices are given by\n",
    "\n",
    "$\n",
    "\\begin{align}\n",
    "X = \\begin{bmatrix}0 &1  \\\\ 1 &0 \\end{bmatrix}, &  &\n",
    "Y = \\begin{bmatrix} 0 & -i \\\\ i & 0 \\end{bmatrix}, & &\n",
    "Z = \\begin{bmatrix} 1 &0  \\\\ 0 &-1 \\end{bmatrix}. \n",
    "\\end{align}\n",
    "$\n",
    "\n",
    "For two qubits, we have the following vector representation\n",
    "\n",
    "\n",
    "$\n",
    "\\begin{align}\n",
    "\\vec{v} = \\begin{bmatrix} \n",
    "\\alpha_1 \\\\\n",
    "\\alpha_2 \\\\\n",
    "\\alpha_3 \\\\\n",
    "\\alpha_4 \n",
    "\\end{bmatrix} \n",
    "= \\alpha_1 |00 \\rangle + \\alpha_2 |01 \\rangle +\\alpha_3 |10 \\rangle +\\alpha_4 | 1 1 \\rangle \n",
    "\\end{align}\n",
    "$"
   ]
  },
  {
   "cell_type": "markdown",
   "metadata": {},
   "source": [
    "# Pauli Decomposition\n",
    "\n",
    "First, we decompose the matrix $M$ into a sum of 2-qubit operators,\n",
    "\n",
    "\\begin{align}\n",
    "M = a X_1 \\otimes X_2+b Y_1 \\otimes Y_2+ c Z_1 \\otimes Z_2+d I_1 \\otimes I_2\n",
    "\\end{align}\n",
    "\n",
    "where the subscripts ${1,2}$ denote the specific quibit on which the operator acts, $\\otimes$ denotes the tensor product, and $a,b,c,d$ are undertermined coefficients. We solve this decomposition using the matrix representation of the tensor product. To see what this representation looks like we define the $X,Y,Z$ pauli matrices in code below."
   ]
  },
  {
   "cell_type": "code",
   "execution_count": 2,
   "metadata": {},
   "outputs": [],
   "source": [
    "# Define the Pauli matrices \n",
    "\n",
    "X = np.array([[0,1],[1,0]])\n",
    "Y = np.array([[0,-np.complex(0,1)],[np.complex(0,1),0]])\n",
    "Z = np.array([[1,0],[0,-1]])"
   ]
  },
  {
   "cell_type": "markdown",
   "metadata": {},
   "source": [
    "Now, we can form the tensor products of these operators as shown in the cell below. "
   ]
  },
  {
   "cell_type": "code",
   "execution_count": 3,
   "metadata": {},
   "outputs": [
    {
     "name": "stdout",
     "output_type": "stream",
     "text": [
      "The XX gate is: \n",
      "[[0 0 0 1]\n",
      " [0 0 1 0]\n",
      " [0 1 0 0]\n",
      " [1 0 0 0]] \n",
      "\n",
      "The YY gate is: \n",
      "[[ 0.  0.  0. -1.]\n",
      " [ 0.  0.  1.  0.]\n",
      " [ 0.  1.  0.  0.]\n",
      " [-1.  0.  0.  0.]] \n",
      "\n",
      "The ZZ gate is: \n",
      "[[ 1  0  0  0]\n",
      " [ 0 -1  0  0]\n",
      " [ 0  0 -1  0]\n",
      " [ 0  0  0  1]] \n",
      "\n"
     ]
    }
   ],
   "source": [
    "# Compute the tensor product of the Pauli matrices\n",
    "\n",
    "XX = np.kron(X,X)\n",
    "YY = np.real(np.kron(Y,Y)) # This will be a real matrix\n",
    "ZZ = np.kron(Z,Z)\n",
    "II = np.identity(4)\n",
    "\n",
    "print(\"The XX gate is: \\n{} \\n\".format(XX))\n",
    "print(\"The YY gate is: \\n{} \\n\".format(YY))\n",
    "print(\"The ZZ gate is: \\n{} \\n\".format(ZZ))"
   ]
  },
  {
   "cell_type": "markdown",
   "metadata": {},
   "source": [
    "By hand, we find that the $M$ can be decomposed into the following sum of 2-qubit operators\n",
    "$\n",
    "\\begin{align}\n",
    "M = \\frac{1}{2}\\left( X_1 \\otimes X_2+ Y_1 \\otimes Y_2+ Z_1 \\otimes Z_2- I_1 \\otimes I_2 \\right),\n",
    "\\end{align}\n",
    "$\n",
    "we verify this to be the case in the cell below"
   ]
  },
  {
   "cell_type": "code",
   "execution_count": 4,
   "metadata": {},
   "outputs": [
    {
     "name": "stdout",
     "output_type": "stream",
     "text": [
      "M = \n",
      " [[ 0.  0.  0.  0.]\n",
      " [ 0. -1.  1.  0.]\n",
      " [ 0.  1. -1.  0.]\n",
      " [ 0.  0.  0.  0.]]\n",
      "\n"
     ]
    }
   ],
   "source": [
    "# This is the decomposition of the \"M\" matrix \n",
    "M = (XX+YY+ZZ-II)/2\n",
    "print('M = \\n',M)\n",
    "print('')\n"
   ]
  },
  {
   "cell_type": "markdown",
   "metadata": {},
   "source": [
    "Indeed this is the $M$ matrix that we wanted."
   ]
  },
  {
   "cell_type": "markdown",
   "metadata": {},
   "source": [
    "# Expectation value of two-qubit operators\n",
    "\n",
    "With this decomposition in place, now we wish to determine the bound on the lowest eigenvalue of $M$ using the variational theorem. This will require us to know the expectation values of $M$ on different trial wavefunctions. The expectation value of the operator $M$ on a ground state wave function $|\\psi (\\theta) \\rangle $ of the form    \n",
    "\n",
    "$\n",
    "E(\\theta) = \\langle \\psi(\\theta)|M | \\psi(\\theta) \\rangle,\n",
    "$\n",
    "\n",
    "where $E(\\theta)$ is the expectation value of the matrix $M$ and $|\\psi (\\theta) \\rangle$ is our variational wave function parametrized by the angle $\\theta$. \n",
    "\n",
    "\n",
    "The simplest expectation value that we can compute is the $Z_1 \\otimes Z_2$ operator. When acting on a state given by $|\\alpha \\rangle = (a,b,c,d)$, such that $\\langle \\alpha|\\alpha \\rangle =1$, The expectation value is\n",
    "\n",
    "\\begin{align}\n",
    "\\langle \\alpha|Z_1 \\otimes Z_2 |\\alpha\\rangle = a^2+d^2-(b^2+c^2).\n",
    "\\end{align}\n",
    "\n",
    "The terms $a^2$ and $d^2$ correspond to the probability of the states $|00\\rangle$ and $|11 \\rangle$, respectively, while $b^2$ and $d^2$ are the probabilities of the states $|01\\rangle$ or $|10\\rangle$. When conducting simulations these probabilities are simply\n",
    "\n",
    "\\begin{align}\n",
    "\\langle \\alpha|Z_1 \\otimes Z_2 |\\alpha\\rangle = \\frac{\\lbrace \\text{The number of 00 or 11 states} \\rbrace -\\lbrace \\text{The number of 01 or 10 states} \\rbrace}{\\text{Number of trials}}.\n",
    "\\end{align}\n",
    "\n",
    "\n",
    "Because of the simplicity of this expectation value, to determine the expectation value of other operators on our trial states, we seek to decompose all 2-qubit operators into the form\n",
    "\n",
    "$\n",
    "O = U^{\\dagger} \\left( Z_1 \\otimes Z_2 \\right) U,\n",
    "$\n",
    "\n",
    "where $U$ is a unitary matrix specific to $O$. For our purposes, the following decompositions are relevant\n",
    "\n",
    "\n",
    "$\n",
    "\\begin{align}\n",
    "X \\otimes X &= \\left(H_1 \\otimes H_2 \\right)^\\dagger Z_1 \\otimes Z_2  \\left(H_1 \\otimes H_2 \\right), \\\\\n",
    "Y \\otimes Y &= \\left(H_1 S_1^\\dagger \\otimes H_2 S_2^\\dagger \\right)^\\dagger Z_1 \\otimes Z_2  \\left(H_1 S_1^\\dagger \\otimes H_2 S_2^\\dagger \\right),\n",
    "\\end{align}\n",
    "$\n",
    "\n",
    "where\n",
    "\n",
    "$\n",
    "S^\\dagger = \\begin{bmatrix}\n",
    "1 & 0 \\\\\n",
    "0 & -i\n",
    "\\end{bmatrix}.\n",
    "$\n",
    "\n",
    "\n",
    "These identities allow us to write our original matrix $M$ as the sum of operators\n",
    "\n",
    "$\n",
    "\\begin{align}\n",
    "M = \\frac{1}{2}\\left(H_1 \\otimes H_2 \\right)^\\dagger \\left( Z_1 \\otimes Z_2 \\right)  \\left(H_1 \\otimes H_2 \\right)\n",
    "+ \\frac{1}{2}\\left(H_1 S_1^\\dagger \\otimes H_2 S_2^\\dagger \\right)^\\dagger \\left( Z_1 \\otimes Z_2 \\right)  \\left(H_1 S_1^\\dagger \\otimes H_2 S_2^\\dagger \\right)+ \\frac{1}{2}\\left( I_1 \\otimes I_2 \\right) - \\frac{1}{2}\\left( Z_1 \\otimes Z_2 \\right).\n",
    "\\end{align}\n",
    "$\n",
    "\n",
    "The expectation value of the above matrix on the state $| \\psi \\rangle$ is the sum\n",
    "\n",
    "\\begin{align}\n",
    "\\langle \\psi| M|\\psi \\rangle = \\frac{1}{2}\\langle \\phi_1|\\left( Z_1 \\otimes Z_2 \\right) |\\phi_1 \\rangle   +\\frac{1}{2}\\langle \\phi_2|\\left( Z_1 \\otimes Z_2 \\right) |\\phi_2 \\rangle   +\\frac{1}{2}\\langle \\psi|\\left( Z_1 \\otimes Z_2 \\right) |\\psi \\rangle   -\\frac{1}{2},  \n",
    "\\end{align}\n",
    "\n",
    "where we define the new states $|\\phi_1\\rangle$ and $|\\phi_2\\rangle$ as\n",
    "\n",
    "$\n",
    "\\begin{align}\n",
    "| \\phi_1 \\rangle &=  \\left(H_1 \\otimes H_2 \\right)|\\psi \\rangle, \\\\\n",
    "| \\phi_2 \\rangle &= \\left(H_1 S_1^\\dagger \\otimes H_2 S_2^\\dagger \\right)|\\psi \\rangle,\n",
    "\\end{align}\n",
    "$"
   ]
  },
  {
   "cell_type": "markdown",
   "metadata": {},
   "source": [
    "# Variational wave function Anzatz state\n",
    "\n",
    "Now that we know how to compute the expectation value of our matrix $M$ we need a trial wavefunction. As per the hint, we will use the state given by\n",
    "\n",
    "$\n",
    "\\begin{align}\n",
    "|\\psi \\rangle = (I \\otimes X)CX(R_Z(\\theta) \\otimes I)(H \\otimes I)|00\\rangle.\n",
    "\\end{align}\n",
    "$\n",
    "\n",
    "We produce a simple visualization of this state below\n"
   ]
  },
  {
   "cell_type": "code",
   "execution_count": 5,
   "metadata": {},
   "outputs": [
    {
     "data": {
      "text/html": [
       "<pre style=\"word-wrap: normal;white-space: pre;background: #fff0;line-height: 1.1;font-family: &quot;Courier New&quot;,Courier,monospace\">         ┌───┐┌────────┐           ░ \n",
       "q0_0: |0>┤ H ├┤ Rz(pi) ├──■────────░─\n",
       "         └───┘└────────┘┌─┴─┐┌───┐ ░ \n",
       "q0_1: |0>───────────────┤ X ├┤ X ├─░─\n",
       "                        └───┘└───┘ ░ \n",
       " c0_0: 0 ════════════════════════════\n",
       "                                     \n",
       " c0_1: 0 ════════════════════════════\n",
       "                                     </pre>"
      ],
      "text/plain": [
       "         ┌───┐┌────────┐           ░ \n",
       "q0_0: |0>┤ H ├┤ Rz(pi) ├──■────────░─\n",
       "         └───┘└────────┘┌─┴─┐┌───┐ ░ \n",
       "q0_1: |0>───────────────┤ X ├┤ X ├─░─\n",
       "                        └───┘└───┘ ░ \n",
       " c0_0: 0 ════════════════════════════\n",
       "                                     \n",
       " c0_1: 0 ════════════════════════════\n",
       "                                     "
      ]
     },
     "execution_count": 5,
     "metadata": {},
     "output_type": "execute_result"
    }
   ],
   "source": [
    "# Visualize Ansatz-circuit\n",
    "theta=np.pi\n",
    "q = QuantumRegister(2)\n",
    "c = ClassicalRegister(2)\n",
    "circuit = QuantumCircuit(q,c)\n",
    "circuit.h(q[0])\n",
    "circuit.rz(theta,q[0])\n",
    "circuit.cx(q[0],q[1])\n",
    "circuit.x(q[1])\n",
    "circuit.barrier()\n",
    "circuit.draw()"
   ]
  },
  {
   "cell_type": "markdown",
   "metadata": {},
   "source": [
    "# Constructing the functions needed for the evaluation of the expectation value of $M$"
   ]
  },
  {
   "cell_type": "code",
   "execution_count": 6,
   "metadata": {},
   "outputs": [],
   "source": [
    "\n",
    "def anzatz(circuit,q,c,theta):\n",
    "    '''\n",
    "    The Anzatz wave function\n",
    "    |psi > = (I X)(CX)(Rz(theta) I)(H I)|00>\n",
    "    '''\n",
    "    circuit.h(q[0])\n",
    "    circuit.rz(theta,q[0])\n",
    "    circuit.cx(q[0],q[1])\n",
    "    circuit.x(q[1])\n",
    "    circuit.barrier()\n",
    "    \n",
    "    return circuit\n",
    "\n",
    "def measure_ZZ(circuit,N_shots=2**10,simulator_backend='qasm_simulator'):\n",
    "    '''\n",
    "    Measures the expectation value of ZZ on the 2-qubit states\n",
    "    \n",
    "    <ZZ> = the number of ( 00 )  and (11) states, minus the number of (01) and (10) states\n",
    "    normalized over the number of trials\n",
    "    '''\n",
    "    simulator = Aer.get_backend(simulator_backend)\n",
    "    result = execute(circuit,backend=simulator,shots=N_shots).result()\n",
    "\n",
    "    items =result.get_counts().items()\n",
    "    \n",
    "    s = 0\n",
    "    for key, counts in items:\n",
    "        s+= (-1)**(int(key[0])+int(key[1]))*counts\n",
    "    \n",
    "    s = s/N_shots\n",
    "        \n",
    "    return s\n",
    "\n",
    "def hamiltonian(theta,N_shots=2**10):\n",
    "    '''\n",
    "    The hamiltonian for the problem that corresponds \n",
    "    to our matrix M:\n",
    "    \n",
    "    M = (1/2)*(XX+YY+ZZ-II)\n",
    "    \n",
    "    The hamiltonian is computed by separating it into three components\n",
    "    according to the discussions in the previous cells. \n",
    "    '''\n",
    "    \n",
    "    q = QuantumRegister(2)\n",
    "    c = ClassicalRegister(2)\n",
    "    \n",
    "    ## 0.5*XX component\n",
    "    circuit_xx = QuantumCircuit(q,c)\n",
    "    circuit_xx = anzatz(circuit_xx,q,c,theta)\n",
    "    circuit_xx.h(q[0])\n",
    "    circuit_xx.h(q[1])\n",
    "    circuit_xx.measure(q,c)\n",
    "    E_XX = 0.5*measure_ZZ(circuit_xx,N_shots=N_shots)\n",
    "    \n",
    "    ## 0.5*YY component\n",
    "    circuit_yy = QuantumCircuit(q,c)\n",
    "    circuit_yy = anzatz(circuit_yy,q,c,theta)\n",
    "    circuit_yy.sdg(q[0])\n",
    "    circuit_yy.h(q[0])\n",
    "    circuit_yy.sdg(q[1])\n",
    "    circuit_yy.h(q[1])    \n",
    "    circuit_yy.measure(q,c)\n",
    "    E_YY= 0.5*measure_ZZ(circuit_yy,N_shots=N_shots)\n",
    "    \n",
    "    \n",
    "    # 0.5*ZZ component\n",
    "    circuit_zz = QuantumCircuit(q,c)\n",
    "    circuit_zz = anzatz(circuit_zz,q,c,theta)\n",
    "    circuit_zz.measure(q,c)\n",
    "    E_ZZ = 0.5*measure_ZZ(circuit_zz,N_shots=N_shots)\n",
    "    \n",
    "    # Note, the -1/2 comes from the fact that <psi|II|psi> = 1\n",
    "    # it is always a constant\n",
    "    \n",
    "    return (E_XX+E_YY+E_ZZ-0.5)"
   ]
  },
  {
   "cell_type": "markdown",
   "metadata": {},
   "source": [
    "# Having defined the functions we now run simulations of the quantum circuits"
   ]
  },
  {
   "cell_type": "code",
   "execution_count": 7,
   "metadata": {},
   "outputs": [
    {
     "data": {
      "image/png": "[encoded data removed]",
      "text/plain": [
       "<Figure size 432x288 with 1 Axes>"
      ]
     },
     "metadata": {
      "needs_background": "light"
     },
     "output_type": "display_data"
    },
    {
     "name": "stdout",
     "output_type": "stream",
     "text": [
      "====================================================================================================\n",
      "The minimum bound on the lowest eigenvalue of M is E0=-2.0,\n",
      "\n",
      "The parameter that corresponds to this energy is theta=3.09 Rads\n",
      "====================================================================================================\n"
     ]
    }
   ],
   "source": [
    "# Now we generate several thetas, and find the best set of parameters\n",
    "\n",
    "import matplotlib.pyplot as plt\n",
    "\n",
    "# The number of trials to run\n",
    "N_shots = 2**10\n",
    "\n",
    "# Generate theta grid\n",
    "theta = np.linspace(0.0,2*np.pi,200)\n",
    "E = np.zeros(len(theta))\n",
    "\n",
    "# Calculate the expectation value of the Hamiltonian for different theta\n",
    "for k in range(len(theta)):\n",
    "    E[k] =  hamiltonian(theta=theta[k],N_shots=N_shots)\n",
    "    \n",
    "\n",
    "# Plot the results\n",
    "plt.title('Expectation value vs Angle',fontsize=15)\n",
    "plt.ylabel('Expectation value of H',fontsize=15)\n",
    "plt.xlabel('Theta (radians)',fontsize=15)\n",
    "plt.plot(theta,E,label='Number of shots: {}'.format(N_shots))\n",
    "plt.legend()\n",
    "plt.show()\n",
    "    \n",
    "\n",
    "# Determine the lowest bound from varying theta\n",
    "print('='*100)\n",
    "print('The minimum bound on the lowest eigenvalue of M is E0={},\\n'.format(min(E)))\n",
    "print('The parameter that corresponds to this energy is theta={:0.2f} Rads'.format(theta[np.argmin(E)]))\n",
    "print('='*100)"
   ]
  },
  {
   "cell_type": "markdown",
   "metadata": {},
   "source": [
    "Now that we have found the lower bound for the smallest eigenvalue of $M$, let us calculate the \n",
    "minimum eigenvalue directly to check our solution"
   ]
  },
  {
   "cell_type": "code",
   "execution_count": 8,
   "metadata": {},
   "outputs": [
    {
     "name": "stdout",
     "output_type": "stream",
     "text": [
      "====================================================================================================\n",
      "Minimum eigenvalue using classical computer: Lambda=-2.00\n",
      "The minimum bound of the Eigenvalue from the quantum computing simulations is E=-2.00\n",
      "====================================================================================================\n"
     ]
    }
   ],
   "source": [
    "w, v = np.linalg.eig(M)\n",
    "\n",
    "print('='*100)\n",
    "print('Minimum eigenvalue using classical computer: Lambda={:0.2f}'.format(min(w)))\n",
    "print('The minimum bound of the Eigenvalue from the quantum computing simulations is E={:0.2f}'.format(min(E)))\n",
    "print('='*100)"
   ]
  },
  {
   "cell_type": "markdown",
   "metadata": {},
   "source": [
    "Indeed, we see that the lower bound from the quantum circuit coincides with the lowest eigen value of the matrix."
   ]
  },
  {
   "cell_type": "code",
   "execution_count": null,
   "metadata": {},
   "outputs": [],
   "source": []
  }
 ],
 "metadata": {
  "kernelspec": {
   "display_name": "qiskit",
   "language": "python",
   "name": "qiskit"
  },
  "language_info": {
   "codemirror_mode": {
    "name": "ipython",
    "version": 3
   },
   "file_extension": ".py",
   "mimetype": "text/x-python",
   "name": "python",
   "nbconvert_exporter": "python",
   "pygments_lexer": "ipython3",
   "version": "3.8.1"
  }
 },
 "nbformat": 4,
 "nbformat_minor": 4
}
